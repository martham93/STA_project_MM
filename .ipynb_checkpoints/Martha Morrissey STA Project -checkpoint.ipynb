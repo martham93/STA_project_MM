{
 "cells": [
  {
   "cell_type": "markdown",
   "metadata": {},
   "source": [
    "# BikeMaps.Org Data for Victoria, BC"
   ]
  },
  {
   "cell_type": "markdown",
   "metadata": {},
   "source": [
    "# Abstract"
   ]
  },
  {
   "cell_type": "code",
   "execution_count": null,
   "metadata": {
    "collapsed": true
   },
   "outputs": [],
   "source": []
  },
  {
   "cell_type": "markdown",
   "metadata": {},
   "source": [
    "# Introduction "
   ]
  },
  {
   "cell_type": "markdown",
   "metadata": {},
   "source": [
    "# Methods"
   ]
  },
  {
   "cell_type": "markdown",
   "metadata": {},
   "source": [
    "# Results"
   ]
  },
  {
   "cell_type": "markdown",
   "metadata": {},
   "source": [
    "# Discussion"
   ]
  },
  {
   "cell_type": "markdown",
   "metadata": {},
   "source": [
    "# Conclusion"
   ]
  },
  {
   "cell_type": "markdown",
   "metadata": {},
   "source": [
    "## Data Exploration"
   ]
  },
  {
   "cell_type": "code",
   "execution_count": 1,
   "metadata": {
    "collapsed": true
   },
   "outputs": [],
   "source": [
    "import numpy as np\n",
    "import pandas as pd\n",
    "import matplotlib.pyplot as plt\n",
    "%config InlineBackend.figure_format = 'svg'\n",
    "%matplotlib inline\n",
    "\n",
    "import numpy as np\n",
    "import pysal\n",
    "import pysal.spatial_dynamics.interaction as interaction\n",
    "np.random.seed(100)\n",
    "import datetime"
   ]
  },
  {
   "cell_type": "code",
   "execution_count": 185,
   "metadata": {
    "collapsed": false
   },
   "outputs": [
    {
     "data": {
      "text/plain": [
       "i_type               object\n",
       "incident_with        object\n",
       "date                 object\n",
       "p_type               object\n",
       "details              object\n",
       "incident_effect      object\n",
       "injury               object\n",
       "trip_purpose         object\n",
       "regular_cyclist      object\n",
       "helmet               object\n",
       "intoxicated          object\n",
       "road_conditions      object\n",
       "sightlines           object\n",
       "cars_on_roadside     object\n",
       "riding_on            object\n",
       "bike_lights          object\n",
       "terrain              object\n",
       "direction            object\n",
       "turning              object\n",
       "age                 float64\n",
       "birthmonth          float64\n",
       "sex                  object\n",
       "pk                    int64\n",
       "x                   float64\n",
       "y                   float64\n",
       "dtype: object"
      ]
     },
     "execution_count": 185,
     "metadata": {},
     "output_type": "execute_result"
    }
   ],
   "source": [
    "collisions = pd.read_csv('/Users/marthamorrissey/Documents/STA_project_MM/Data/col.csv')\n",
    "collisions.dtypes\n",
    "\n",
    "#collisions[\"t\"] = collisions.date.apply(datetime.datetime.strptime, '%Y-%m-%d %H:%M:%S')\n",
    "#collisions[\"time\"] = collisions.date.apply(datetime.date.isoformat)"
   ]
  },
  {
   "cell_type": "code",
   "execution_count": 3,
   "metadata": {
    "collapsed": false
   },
   "outputs": [
    {
     "data": {
      "text/html": [
       "<div>\n",
       "<table border=\"1\" class=\"dataframe\">\n",
       "  <thead>\n",
       "    <tr style=\"text-align: right;\">\n",
       "      <th></th>\n",
       "      <th>i_type</th>\n",
       "      <th>date</th>\n",
       "      <th>p_type</th>\n",
       "      <th>details</th>\n",
       "      <th>how_locked</th>\n",
       "      <th>lock</th>\n",
       "      <th>locked_to</th>\n",
       "      <th>lighting</th>\n",
       "      <th>traffic</th>\n",
       "      <th>police_report</th>\n",
       "      <th>police_report_num</th>\n",
       "      <th>insurance_claim</th>\n",
       "      <th>insurance_claim_num</th>\n",
       "      <th>regular_cyclist</th>\n",
       "      <th>pk</th>\n",
       "      <th>longitude</th>\n",
       "      <th>latitude</th>\n",
       "    </tr>\n",
       "  </thead>\n",
       "  <tbody>\n",
       "    <tr>\n",
       "      <th>0</th>\n",
       "      <td>Minor bike component</td>\n",
       "      <td>2015-06-29T19:30:00</td>\n",
       "      <td>theft</td>\n",
       "      <td>Quick release removed from back wheel - i.e. i...</td>\n",
       "      <td>Frame and tire locked</td>\n",
       "      <td>U-Lock</td>\n",
       "      <td>Good</td>\n",
       "      <td>NaN</td>\n",
       "      <td>Medium</td>\n",
       "      <td>True</td>\n",
       "      <td>T15000455</td>\n",
       "      <td>False</td>\n",
       "      <td>NaN</td>\n",
       "      <td>Y</td>\n",
       "      <td>1253</td>\n",
       "      <td>-123.386807</td>\n",
       "      <td>48.437529</td>\n",
       "    </tr>\n",
       "    <tr>\n",
       "      <th>1</th>\n",
       "      <td>Bike (value &lt; $1000)</td>\n",
       "      <td>2015-07-28T02:00:00</td>\n",
       "      <td>theft</td>\n",
       "      <td>Bike stolen from under the Petch Building bree...</td>\n",
       "      <td>Frame locked</td>\n",
       "      <td>Cable lock</td>\n",
       "      <td>Moderate</td>\n",
       "      <td>NaN</td>\n",
       "      <td>Very Low</td>\n",
       "      <td>True</td>\n",
       "      <td>NaN</td>\n",
       "      <td>False</td>\n",
       "      <td>NaN</td>\n",
       "      <td>Y</td>\n",
       "      <td>1421</td>\n",
       "      <td>-123.310697</td>\n",
       "      <td>48.461660</td>\n",
       "    </tr>\n",
       "    <tr>\n",
       "      <th>2</th>\n",
       "      <td>Minor bike component</td>\n",
       "      <td>2015-07-24T21:30:00</td>\n",
       "      <td>theft</td>\n",
       "      <td>Bike helmet stolen. It was not locked.</td>\n",
       "      <td>Frame and tire locked</td>\n",
       "      <td>Cable lock</td>\n",
       "      <td>Moderate</td>\n",
       "      <td>NaN</td>\n",
       "      <td>High</td>\n",
       "      <td>False</td>\n",
       "      <td>NaN</td>\n",
       "      <td>False</td>\n",
       "      <td>NaN</td>\n",
       "      <td>Y</td>\n",
       "      <td>1493</td>\n",
       "      <td>-123.364642</td>\n",
       "      <td>48.427851</td>\n",
       "    </tr>\n",
       "    <tr>\n",
       "      <th>3</th>\n",
       "      <td>Bike (value &lt; $1000)</td>\n",
       "      <td>2015-04-17T21:00:00</td>\n",
       "      <td>theft</td>\n",
       "      <td>parked at work inside locked bike cage room. D...</td>\n",
       "      <td>Not locked</td>\n",
       "      <td>NaN</td>\n",
       "      <td>Moderate</td>\n",
       "      <td>NaN</td>\n",
       "      <td>Very Low</td>\n",
       "      <td>True</td>\n",
       "      <td>NaN</td>\n",
       "      <td>False</td>\n",
       "      <td>NaN</td>\n",
       "      <td>Y</td>\n",
       "      <td>1614</td>\n",
       "      <td>-123.361670</td>\n",
       "      <td>48.426880</td>\n",
       "    </tr>\n",
       "    <tr>\n",
       "      <th>4</th>\n",
       "      <td>Bike (value &lt; $1000)</td>\n",
       "      <td>2015-02-03T17:30:00</td>\n",
       "      <td>theft</td>\n",
       "      <td>This was an unfortunate situation where I \"loc...</td>\n",
       "      <td>Not locked</td>\n",
       "      <td>NaN</td>\n",
       "      <td>Good</td>\n",
       "      <td>NaN</td>\n",
       "      <td>Low</td>\n",
       "      <td>True</td>\n",
       "      <td>NaN</td>\n",
       "      <td>False</td>\n",
       "      <td>NaN</td>\n",
       "      <td>Y</td>\n",
       "      <td>1636</td>\n",
       "      <td>-123.378739</td>\n",
       "      <td>48.440147</td>\n",
       "    </tr>\n",
       "  </tbody>\n",
       "</table>\n",
       "</div>"
      ],
      "text/plain": [
       "                 i_type                 date p_type  \\\n",
       "0  Minor bike component  2015-06-29T19:30:00  theft   \n",
       "1  Bike (value < $1000)  2015-07-28T02:00:00  theft   \n",
       "2  Minor bike component  2015-07-24T21:30:00  theft   \n",
       "3  Bike (value < $1000)  2015-04-17T21:00:00  theft   \n",
       "4  Bike (value < $1000)  2015-02-03T17:30:00  theft   \n",
       "\n",
       "                                             details             how_locked  \\\n",
       "0  Quick release removed from back wheel - i.e. i...  Frame and tire locked   \n",
       "1  Bike stolen from under the Petch Building bree...           Frame locked   \n",
       "2             Bike helmet stolen. It was not locked.  Frame and tire locked   \n",
       "3  parked at work inside locked bike cage room. D...             Not locked   \n",
       "4  This was an unfortunate situation where I \"loc...             Not locked   \n",
       "\n",
       "         lock locked_to  lighting   traffic police_report police_report_num  \\\n",
       "0      U-Lock      Good       NaN    Medium          True         T15000455   \n",
       "1  Cable lock  Moderate       NaN  Very Low          True               NaN   \n",
       "2  Cable lock  Moderate       NaN      High         False               NaN   \n",
       "3         NaN  Moderate       NaN  Very Low          True               NaN   \n",
       "4         NaN      Good       NaN       Low          True               NaN   \n",
       "\n",
       "  insurance_claim  insurance_claim_num regular_cyclist    pk   longitude  \\\n",
       "0           False                  NaN               Y  1253 -123.386807   \n",
       "1           False                  NaN               Y  1421 -123.310697   \n",
       "2           False                  NaN               Y  1493 -123.364642   \n",
       "3           False                  NaN               Y  1614 -123.361670   \n",
       "4           False                  NaN               Y  1636 -123.378739   \n",
       "\n",
       "    latitude  \n",
       "0  48.437529  \n",
       "1  48.461660  \n",
       "2  48.427851  \n",
       "3  48.426880  \n",
       "4  48.440147  "
      ]
     },
     "execution_count": 3,
     "metadata": {},
     "output_type": "execute_result"
    }
   ],
   "source": [
    "theft = pd.read_csv('/Users/marthamorrissey/Documents/STA_project_MM/Data/theft.csv')\n",
    "theft.head()"
   ]
  },
  {
   "cell_type": "code",
   "execution_count": 34,
   "metadata": {
    "collapsed": false
   },
   "outputs": [],
   "source": [
    "#hazards = pd.read_csv('/Users/marthamorrissey/Documents/STA_project_MM/Data/hazards.csv')"
   ]
  },
  {
   "cell_type": "code",
   "execution_count": 4,
   "metadata": {
    "collapsed": true
   },
   "outputs": [],
   "source": [
    "near_miss = pd.read_csv('/Users/marthamorrissey/Documents/STA_project_MM/Data/near_miss.csv')"
   ]
  },
  {
   "cell_type": "code",
   "execution_count": 36,
   "metadata": {
    "collapsed": false
   },
   "outputs": [],
   "source": [
    "#collisions.dtypes"
   ]
  },
  {
   "cell_type": "code",
   "execution_count": 197,
   "metadata": {
    "collapsed": false
   },
   "outputs": [
    {
     "data": {
      "text/html": [
       "<div>\n",
       "<table border=\"1\" class=\"dataframe\">\n",
       "  <thead>\n",
       "    <tr style=\"text-align: right;\">\n",
       "      <th></th>\n",
       "      <th>i_type</th>\n",
       "      <th>incident_with</th>\n",
       "      <th>date</th>\n",
       "      <th>p_type</th>\n",
       "      <th>details</th>\n",
       "      <th>incident_effect</th>\n",
       "      <th>injury</th>\n",
       "      <th>trip_purpose</th>\n",
       "      <th>regular_cyclist</th>\n",
       "      <th>helmet</th>\n",
       "      <th>...</th>\n",
       "      <th>turning</th>\n",
       "      <th>age</th>\n",
       "      <th>birthmonth</th>\n",
       "      <th>sex</th>\n",
       "      <th>pk</th>\n",
       "      <th>x</th>\n",
       "      <th>y</th>\n",
       "      <th>T_test3</th>\n",
       "      <th>timee</th>\n",
       "      <th>just_date</th>\n",
       "    </tr>\n",
       "  </thead>\n",
       "  <tbody>\n",
       "    <tr>\n",
       "      <th>0</th>\n",
       "      <td>Collision with moving object or vehicle</td>\n",
       "      <td>Vehicle, angle</td>\n",
       "      <td>2014-12-04T22:30:00</td>\n",
       "      <td>collision</td>\n",
       "      <td>Cab pulled an illegal u-turn and I collided wi...</td>\n",
       "      <td>NaN</td>\n",
       "      <td>No injury</td>\n",
       "      <td>Social reason</td>\n",
       "      <td>Y</td>\n",
       "      <td>Y</td>\n",
       "      <td>...</td>\n",
       "      <td>Heading straight</td>\n",
       "      <td>NaN</td>\n",
       "      <td>NaN</td>\n",
       "      <td>M</td>\n",
       "      <td>1090</td>\n",
       "      <td>-123.343377</td>\n",
       "      <td>48.434454</td>\n",
       "      <td>2014-12-04 22:30:00</td>\n",
       "      <td>2014-12-04 22:30:00</td>\n",
       "      <td>2014-12-04</td>\n",
       "    </tr>\n",
       "    <tr>\n",
       "      <th>1</th>\n",
       "      <td>Collision with moving object or vehicle</td>\n",
       "      <td>Vehicle, side</td>\n",
       "      <td>2015-07-28T10:30:00</td>\n",
       "      <td>collision</td>\n",
       "      <td>Vehicle turned left into my lane. I was unable...</td>\n",
       "      <td>NaN</td>\n",
       "      <td>Injury, hospital emergency visit</td>\n",
       "      <td>Exercise or recreation</td>\n",
       "      <td>Y</td>\n",
       "      <td>Y</td>\n",
       "      <td>...</td>\n",
       "      <td>Heading straight</td>\n",
       "      <td>1941</td>\n",
       "      <td>5</td>\n",
       "      <td>M</td>\n",
       "      <td>1427</td>\n",
       "      <td>-123.418093</td>\n",
       "      <td>48.621903</td>\n",
       "      <td>2015-07-28 10:30:00</td>\n",
       "      <td>2015-07-28 10:30:00</td>\n",
       "      <td>2015-07-28</td>\n",
       "    </tr>\n",
       "    <tr>\n",
       "      <th>2</th>\n",
       "      <td>Collision with moving object or vehicle</td>\n",
       "      <td>Vehicle, head on</td>\n",
       "      <td>2015-06-02T17:20:00</td>\n",
       "      <td>collision</td>\n",
       "      <td>I attended an head on accident between two mal...</td>\n",
       "      <td>NaN</td>\n",
       "      <td>Injury, hospitalized</td>\n",
       "      <td>Exercise or recreation</td>\n",
       "      <td>NaN</td>\n",
       "      <td>NaN</td>\n",
       "      <td>...</td>\n",
       "      <td>Turning left</td>\n",
       "      <td>NaN</td>\n",
       "      <td>NaN</td>\n",
       "      <td>NaN</td>\n",
       "      <td>1510</td>\n",
       "      <td>-123.398636</td>\n",
       "      <td>48.592406</td>\n",
       "      <td>2015-06-02 17:20:00</td>\n",
       "      <td>2015-06-02 17:20:00</td>\n",
       "      <td>2015-06-02</td>\n",
       "    </tr>\n",
       "    <tr>\n",
       "      <th>3</th>\n",
       "      <td>Collision with moving object or vehicle</td>\n",
       "      <td>Another cyclist</td>\n",
       "      <td>2015-05-06T09:00:00</td>\n",
       "      <td>collision</td>\n",
       "      <td>I was traveling south on Borden crossing McKen...</td>\n",
       "      <td>NaN</td>\n",
       "      <td>Injury, no treatment</td>\n",
       "      <td>Commute</td>\n",
       "      <td>Y</td>\n",
       "      <td>Y</td>\n",
       "      <td>...</td>\n",
       "      <td>Turning right</td>\n",
       "      <td>1958</td>\n",
       "      <td>7</td>\n",
       "      <td>M</td>\n",
       "      <td>917</td>\n",
       "      <td>-123.361423</td>\n",
       "      <td>48.470311</td>\n",
       "      <td>2015-05-06 09:00:00</td>\n",
       "      <td>2015-05-06 09:00:00</td>\n",
       "      <td>2015-05-06</td>\n",
       "    </tr>\n",
       "    <tr>\n",
       "      <th>4</th>\n",
       "      <td>Fall</td>\n",
       "      <td>Train Tracks</td>\n",
       "      <td>2015-05-30T17:30:00</td>\n",
       "      <td>collision</td>\n",
       "      <td>Riding up the hill and my wheel caught in the ...</td>\n",
       "      <td>NaN</td>\n",
       "      <td>Injury, no treatment</td>\n",
       "      <td>Commute</td>\n",
       "      <td>Y</td>\n",
       "      <td>Y</td>\n",
       "      <td>...</td>\n",
       "      <td>Heading straight</td>\n",
       "      <td>1955</td>\n",
       "      <td>4</td>\n",
       "      <td>F</td>\n",
       "      <td>1052</td>\n",
       "      <td>-123.475707</td>\n",
       "      <td>48.447650</td>\n",
       "      <td>2015-05-30 17:30:00</td>\n",
       "      <td>2015-05-30 17:30:00</td>\n",
       "      <td>2015-05-30</td>\n",
       "    </tr>\n",
       "  </tbody>\n",
       "</table>\n",
       "<p>5 rows × 28 columns</p>\n",
       "</div>"
      ],
      "text/plain": [
       "                                    i_type     incident_with  \\\n",
       "0  Collision with moving object or vehicle    Vehicle, angle   \n",
       "1  Collision with moving object or vehicle     Vehicle, side   \n",
       "2  Collision with moving object or vehicle  Vehicle, head on   \n",
       "3  Collision with moving object or vehicle   Another cyclist   \n",
       "4                                     Fall      Train Tracks   \n",
       "\n",
       "                  date     p_type  \\\n",
       "0  2014-12-04T22:30:00  collision   \n",
       "1  2015-07-28T10:30:00  collision   \n",
       "2  2015-06-02T17:20:00  collision   \n",
       "3  2015-05-06T09:00:00  collision   \n",
       "4  2015-05-30T17:30:00  collision   \n",
       "\n",
       "                                             details incident_effect  \\\n",
       "0  Cab pulled an illegal u-turn and I collided wi...             NaN   \n",
       "1  Vehicle turned left into my lane. I was unable...             NaN   \n",
       "2  I attended an head on accident between two mal...             NaN   \n",
       "3  I was traveling south on Borden crossing McKen...             NaN   \n",
       "4  Riding up the hill and my wheel caught in the ...             NaN   \n",
       "\n",
       "                             injury            trip_purpose regular_cyclist  \\\n",
       "0                         No injury           Social reason               Y   \n",
       "1  Injury, hospital emergency visit  Exercise or recreation               Y   \n",
       "2              Injury, hospitalized  Exercise or recreation             NaN   \n",
       "3              Injury, no treatment                 Commute               Y   \n",
       "4              Injury, no treatment                 Commute               Y   \n",
       "\n",
       "  helmet     ...               turning   age birthmonth  sex    pk  \\\n",
       "0      Y     ...      Heading straight   NaN        NaN    M  1090   \n",
       "1      Y     ...      Heading straight  1941          5    M  1427   \n",
       "2    NaN     ...          Turning left   NaN        NaN  NaN  1510   \n",
       "3      Y     ...         Turning right  1958          7    M   917   \n",
       "4      Y     ...      Heading straight  1955          4    F  1052   \n",
       "\n",
       "            x          y             T_test3               timee   just_date  \n",
       "0 -123.343377  48.434454 2014-12-04 22:30:00 2014-12-04 22:30:00  2014-12-04  \n",
       "1 -123.418093  48.621903 2015-07-28 10:30:00 2015-07-28 10:30:00  2015-07-28  \n",
       "2 -123.398636  48.592406 2015-06-02 17:20:00 2015-06-02 17:20:00  2015-06-02  \n",
       "3 -123.361423  48.470311 2015-05-06 09:00:00 2015-05-06 09:00:00  2015-05-06  \n",
       "4 -123.475707  48.447650 2015-05-30 17:30:00 2015-05-30 17:30:00  2015-05-30  \n",
       "\n",
       "[5 rows x 28 columns]"
      ]
     },
     "execution_count": 197,
     "metadata": {},
     "output_type": "execute_result"
    }
   ],
   "source": [
    "#collisions['T'] = pd.to_datetime(collisions['date'], format='%Y-%m-%dT%H:%M:%S')\n",
    "\n",
    "#collisions.head()\n",
    "\n",
    "\n",
    "#pd.to_datetime('2014-12-04 22:30:00')\n",
    "\n",
    "#pd.Timestamp(np.datetime64('2014-12-04 22:30:00'))\n",
    "\n",
    "\n",
    "date = collisions['date']\n",
    "\n",
    "\n",
    "def changetime(x):\n",
    "    t1 = pd.to_datetime(x, format ='%Y-%m-%dT%H:%M:%S')\n",
    "    #t2 = pd.Timestamp(np.datetime64(t1))\n",
    "    t3 = t1.to_pydatetime()\n",
    "    return t3\n",
    "\n",
    "                               \n",
    "collisions['T_test3'] = collisions['date'].apply(changetime)\n",
    "\n",
    "collisions['T_test3']\n",
    "\n",
    "#collisions.dtypes\n",
    "\n",
    "#y = changetime('2017-02-03T17:30:00')\n",
    "\n",
    "#y\n",
    "\n",
    "#type(y)\n",
    "\n",
    "collisions['just_date'] = collisions['T_test3'].dt.date\n",
    "\n",
    "collisions.head()\n"
   ]
  },
  {
   "cell_type": "code",
   "execution_count": null,
   "metadata": {
    "collapsed": true
   },
   "outputs": [],
   "source": []
  },
  {
   "cell_type": "code",
   "execution_count": 198,
   "metadata": {
    "collapsed": false
   },
   "outputs": [],
   "source": [
    "#from shapely.geometry import Point\n",
    "#collisions['geometry'] = collisions.apply(lambda x: Point((float(x.x), float(x.y))), axis=1)\n",
    "\n",
    "#import geopandas\n",
    "#gp_collisions = geopandas.GeoDataFrame(collisions, geometry='geometry')\n",
    "\n",
    "#gp_collisions.head()\n",
    "\n",
    "#gp_collisions.to_file('collisions_2.shp', driver='ESRI Shapefile')"
   ]
  },
  {
   "cell_type": "code",
   "execution_count": 217,
   "metadata": {
    "collapsed": false
   },
   "outputs": [],
   "source": [
    "collisions3 = collisions[['x', 'y', 'date']]\n",
    "\n",
    "collisions3.head()\n",
    "\n",
    "collisions3.to_csv('/Users/marthamorrissey/Documents/STA_project_MM/Data/xytime_collisions.csv')"
   ]
  },
  {
   "cell_type": "code",
   "execution_count": 218,
   "metadata": {
    "collapsed": true
   },
   "outputs": [],
   "source": [
    "path = \"/anaconda/lib/python3.5/site-packages/pysal/examples/burkitt/burkitt.shp\" \n",
    "\n",
    "#hacking work around- re-named my data to match the example data in PySAL examples folder "
   ]
  },
  {
   "cell_type": "code",
   "execution_count": 220,
   "metadata": {
    "collapsed": false
   },
   "outputs": [
    {
     "ename": "TypeError",
     "evalue": "ufunc 'subtract' did not contain a loop with signature matching types dtype('<U19') dtype('<U19') dtype('<U19')",
     "output_type": "error",
     "traceback": [
      "\u001b[0;31m---------------------------------------------------------------------------\u001b[0m",
      "\u001b[0;31mTypeError\u001b[0m                                 Traceback (most recent call last)",
      "\u001b[0;32m<ipython-input-220-28dfa2dcae50>\u001b[0m in \u001b[0;36m<module>\u001b[0;34m()\u001b[0m\n\u001b[1;32m      5\u001b[0m \u001b[0;34m\u001b[0m\u001b[0m\n\u001b[1;32m      6\u001b[0m \u001b[0mevents\u001b[0m\u001b[0;34m.\u001b[0m\u001b[0mt\u001b[0m\u001b[0;34m[\u001b[0m\u001b[0;36m0\u001b[0m\u001b[0;34m]\u001b[0m \u001b[0;31m#time not in the rigth formatt- must be in Python datetime\u001b[0m\u001b[0;34m\u001b[0m\u001b[0m\n\u001b[0;32m----> 7\u001b[0;31m \u001b[0mevents\u001b[0m\u001b[0;34m.\u001b[0m\u001b[0mt\u001b[0m\u001b[0;34m[\u001b[0m\u001b[0;36m1\u001b[0m\u001b[0;34m]\u001b[0m \u001b[0;34m-\u001b[0m \u001b[0mevents\u001b[0m\u001b[0;34m.\u001b[0m\u001b[0mt\u001b[0m\u001b[0;34m[\u001b[0m\u001b[0;36m0\u001b[0m\u001b[0;34m]\u001b[0m\u001b[0;34m\u001b[0m\u001b[0m\n\u001b[0m\u001b[1;32m      8\u001b[0m \u001b[0;34m\u001b[0m\u001b[0m\n\u001b[1;32m      9\u001b[0m \u001b[0;31m#np.random.seed(100)\u001b[0m\u001b[0;34m\u001b[0m\u001b[0;34m\u001b[0m\u001b[0m\n",
      "\u001b[0;31mTypeError\u001b[0m: ufunc 'subtract' did not contain a loop with signature matching types dtype('<U19') dtype('<U19') dtype('<U19')"
     ]
    }
   ],
   "source": [
    "events = interaction.SpaceTimeEvents(path, 'date')\n",
    "events.n \n",
    "\n",
    "events.space[0]\n",
    "\n",
    "events.t[0] #time not in the rigth formatt- must be in Python datetime \n",
    "events.t[1] - events.t[0]\n",
    "\n",
    "#np.random.seed(100)\n",
    "\n",
    "#result = interaction.modified_knox(events.space, events.t,delta=20,tau=5,permutations=99)\n",
    "\n",
    "#print(\"%2.8f\"%result['stat'])\n"
   ]
  },
  {
   "cell_type": "code",
   "execution_count": 215,
   "metadata": {
    "collapsed": false
   },
   "outputs": [
    {
     "data": {
      "text/plain": [
       "X         int64\n",
       "Y         int64\n",
       "ID      float64\n",
       "X.1     float64\n",
       "Y.1     float64\n",
       "T       float64\n",
       "AGE     float64\n",
       "DATE     object\n",
       "dtype: object"
      ]
     },
     "execution_count": 215,
     "metadata": {},
     "output_type": "execute_result"
    }
   ],
   "source": [
    "b = pd.read_csv('/Users/marthamorrissey/Documents/pysal_example_burkitt.csv')\n",
    "\n",
    "b.head()\n",
    "\n",
    "b.dtypes"
   ]
  },
  {
   "cell_type": "code",
   "execution_count": 80,
   "metadata": {
    "collapsed": true
   },
   "outputs": [],
   "source": [
    "#path2 = \"/anaconda/lib/python3.5/site-packages/pysal/examples/c2/c2.dbf\""
   ]
  },
  {
   "cell_type": "code",
   "execution_count": 11,
   "metadata": {
    "collapsed": false
   },
   "outputs": [],
   "source": [
    "#events = interaction.SpaceTimeEvents(path2, 'T')"
   ]
  },
  {
   "cell_type": "code",
   "execution_count": 10,
   "metadata": {
    "collapsed": false
   },
   "outputs": [],
   "source": [
    "#pysal.examples.get_path('c2')"
   ]
  },
  {
   "cell_type": "code",
   "execution_count": 90,
   "metadata": {
    "collapsed": false
   },
   "outputs": [],
   "source": [
    "import scipy\n",
    "import treelib\n",
    "import pyclust"
   ]
  },
  {
   "cell_type": "code",
   "execution_count": null,
   "metadata": {
    "collapsed": true
   },
   "outputs": [],
   "source": [
    "#pd.DataFrame(distance_matrix(df.values, df.values), index=df.index, columns=df.index)"
   ]
  }
 ],
 "metadata": {
  "anaconda-cloud": {},
  "kernelspec": {
   "display_name": "Python [conda root]",
   "language": "python",
   "name": "conda-root-py"
  },
  "language_info": {
   "codemirror_mode": {
    "name": "ipython",
    "version": 3
   },
   "file_extension": ".py",
   "mimetype": "text/x-python",
   "name": "python",
   "nbconvert_exporter": "python",
   "pygments_lexer": "ipython3",
   "version": "3.5.2"
  }
 },
 "nbformat": 4,
 "nbformat_minor": 0
}
